{
 "cells": [
  {
   "cell_type": "code",
   "execution_count": 1,
   "metadata": {},
   "outputs": [],
   "source": [
    "import tensorflow as tf \n",
    "from model import train\n",
    "import utils\n",
    "import matplotlib.pyplot as plt\n",
    "%matplotlib inline"
   ]
  },
  {
   "cell_type": "code",
   "execution_count": 2,
   "metadata": {},
   "outputs": [],
   "source": [
    "cropping_size = 128\n",
    "img_dir = 'pixiv'\n",
    "batch_size = 64\n",
    "learning_rate = 1e-4\n",
    "layers = 5\n",
    "epochs = 10\n",
    "filters = 40\n",
    "save_path = None"
   ]
  },
  {
   "cell_type": "code",
   "execution_count": 3,
   "metadata": {},
   "outputs": [],
   "source": [
    "# load data and crop\n",
    "gt = utils.crop_images(img_dir, cropping_size)\n",
    "noise = utils.add_poisson_noise_to_images(gt)\n",
    "\n",
    "# scale to [-0.5, 0.5]\n",
    "gt_scaled = gt / 255.0 - 0.5\n",
    "noise_scaled = noise / 255.0 - 0.5"
   ]
  },
  {
   "cell_type": "code",
   "execution_count": 4,
   "metadata": {},
   "outputs": [
    {
     "name": "stdout",
     "output_type": "stream",
     "text": [
      "#0 epoch, current loss: 4301513.0, average psnr: 7.749783274904945\n",
      "#1 epoch, current loss: 2798407.0, average psnr: 7.894754147984393\n",
      "#2 epoch, current loss: 1987177.25, average psnr: 7.898622744319603\n",
      "#3 epoch, current loss: 1526129.75, average psnr: 7.872096928647634\n",
      "#4 epoch, current loss: 1241091.75, average psnr: 7.886805400477982\n",
      "#5 epoch, current loss: 1044733.8125, average psnr: 7.95017459898426\n",
      "#6 epoch, current loss: 903252.375, average psnr: 8.013511565391724\n",
      "#7 epoch, current loss: 799124.5, average psnr: 8.070474335780391\n",
      "#8 epoch, current loss: 718099.5625, average psnr: 8.115157070653407\n",
      "#9 epoch, current loss: 651953.9375, average psnr: 8.150227351878437\n",
      "#0 epoch, current loss: 265300.875, average psnr: 8.732093300080333\n",
      "#1 epoch, current loss: 170701.3125, average psnr: 11.360358965697053\n",
      "#2 epoch, current loss: 151565.15625, average psnr: 12.824694322348444\n",
      "#3 epoch, current loss: 138054.53125, average psnr: 12.889583958780726\n",
      "#4 epoch, current loss: 130284.9140625, average psnr: 12.989514204765428\n",
      "#5 epoch, current loss: 121743.5859375, average psnr: 13.410245297890054\n",
      "#6 epoch, current loss: 113066.984375, average psnr: 13.66718541674547\n",
      "#7 epoch, current loss: 104349.0625, average psnr: 14.008265272945401\n",
      "#8 epoch, current loss: 95656.4140625, average psnr: 14.384748342861595\n",
      "#9 epoch, current loss: 87070.890625, average psnr: 14.756353989723866\n"
     ]
    }
   ],
   "source": [
    "bn_losses, bn_avg_psnr_list = train(gt_scaled,\n",
    "                                    noise_scaled,\n",
    "                                    batch_size,\n",
    "                                    learning_rate,\n",
    "                                    layers,\n",
    "                                    epochs,\n",
    "                                    filters,\n",
    "                                    save_path,\n",
    "                                    batch_norm=True)\n",
    "\n",
    "losses, avg_psnr_list = train(gt_scaled,\n",
    "                              noise_scaled,\n",
    "                              batch_size,\n",
    "                              learning_rate,\n",
    "                              layers,\n",
    "                              epochs,\n",
    "                              filters,\n",
    "                              save_path)"
   ]
  },
  {
   "cell_type": "code",
   "execution_count": 5,
   "metadata": {},
   "outputs": [
    {
     "data": {
      "image/png": "[encoded data removed]",
      "text/plain": [
       "<matplotlib.figure.Figure at 0x2371bc401d0>"
      ]
     },
     "metadata": {},
     "output_type": "display_data"
    }
   ],
   "source": [
    "# plot\n",
    "_, ax = plt.subplots(ncols=2)\n",
    "ax[0].plot(losses, label='dn')\n",
    "ax[0].plot(bn_losses, label='dn batch norm')\n",
    "ax[1].plot(avg_psnr_list, label='dn')\n",
    "ax[1].plot(bn_avg_psnr_list, label='dn batch norm')\n",
    "plt.legend()\n",
    "plt.show()"
   ]
  },
  {
   "cell_type": "code",
   "execution_count": null,
   "metadata": {},
   "outputs": [],
   "source": []
  }
 ],
 "metadata": {
  "kernelspec": {
   "display_name": "Python 3",
   "language": "python",
   "name": "python3"
  },
  "language_info": {
   "codemirror_mode": {
    "name": "ipython",
    "version": 3
   },
   "file_extension": ".py",
   "mimetype": "text/x-python",
   "name": "python",
   "nbconvert_exporter": "python",
   "pygments_lexer": "ipython3",
   "version": "3.6.3"
  }
 },
 "nbformat": 4,
 "nbformat_minor": 2
}
